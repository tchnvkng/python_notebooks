{
 "cells": [
  {
   "cell_type": "code",
   "execution_count": 40,
   "metadata": {},
   "outputs": [],
   "source": [
    "import pandas as pd\n",
    "import sqlite3\n",
    "import numpy as np"
   ]
  },
  {
   "cell_type": "code",
   "execution_count": 4,
   "metadata": {},
   "outputs": [],
   "source": [
    "conn = sqlite3.connect(\"soccer/database.sqlite\")"
   ]
  },
  {
   "cell_type": "code",
   "execution_count": 98,
   "metadata": {},
   "outputs": [
    {
     "data": {
      "text/plain": [
       "array(['2008/2009', '2009/2010', '2010/2011', '2011/2012', '2012/2013',\n",
       "       '2013/2014', '2014/2015', '2015/2016'], dtype=object)"
      ]
     },
     "execution_count": 98,
     "metadata": {},
     "output_type": "execute_result"
    }
   ],
   "source": [
    "use_cols=['season','stage','date','home_team_api_id','away_team_api_id',\n",
    "          'home_team_goal','away_team_goal']\n",
    "cols_str=''\n",
    "for x in use_cols:\n",
    "    cols_str+=x\n",
    "    cols_str+=', '\n",
    "cols_str=cols_str[:-2]\n",
    "\n",
    "matches=pd.read_sql('select '+cols_str+' from Match where league_id=1729',conn)\n",
    "matches['date']=pd.to_datetime(matches['date'])\n",
    "teams=pd.read_sql('select * from Team',conn)\n",
    "uT=np.unique(matches[['home_team_api_id','away_team_api_id']])\n",
    "matches['home_team']=''\n",
    "matches['away_team']=''\n",
    "for _T in uT:\n",
    "    #print(_T)\n",
    "    team_name=teams.loc[teams['team_api_id']==_T,'team_long_name'].values[0]\n",
    "    matches.loc[matches['home_team_api_id']==_T,'home_team']=team_name\n",
    "    matches.loc[matches['away_team_api_id']==_T,'away_team']=team_name\n",
    "    #print(_T,i,team_name)\n",
    "matches=matches.drop(['away_team_api_id','home_team_api_id'],axis=1)\n",
    "matches['season'].unique()"
   ]
  },
  {
   "cell_type": "code",
   "execution_count": 93,
   "metadata": {},
   "outputs": [],
   "source": []
  },
  {
   "cell_type": "code",
   "execution_count": null,
   "metadata": {},
   "outputs": [],
   "source": []
  }
 ],
 "metadata": {
  "kernelspec": {
   "display_name": "Python [conda root]",
   "language": "python",
   "name": "conda-root-py"
  },
  "language_info": {
   "codemirror_mode": {
    "name": "ipython",
    "version": 3
   },
   "file_extension": ".py",
   "mimetype": "text/x-python",
   "name": "python",
   "nbconvert_exporter": "python",
   "pygments_lexer": "ipython3",
   "version": "3.6.3"
  }
 },
 "nbformat": 4,
 "nbformat_minor": 2
}
