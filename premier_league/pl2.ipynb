{
 "cells": [
  {
   "cell_type": "code",
   "execution_count": 1,
   "metadata": {},
   "outputs": [],
   "source": [
    "%matplotlib inline\n",
    "import pandas as pd\n",
    "import numpy as np\n",
    "import matplotlib.pyplot as plt\n",
    "from plFuns import *\n",
    "plt.rcParams['figure.figsize']=[32,18]"
   ]
  },
  {
   "cell_type": "code",
   "execution_count": 2,
   "metadata": {},
   "outputs": [],
   "source": [
    "urls = {'EN': 'http://www.football-data.co.uk/mmz4281/1718/E0.csv',\n",
    "                          'ES': 'http://www.football-data.co.uk/mmz4281/1718/SP1.csv',\n",
    "                          'IT': 'http://www.football-data.co.uk/mmz4281/1718/I1.csv',\n",
    "                          'FR': 'http://www.football-data.co.uk/mmz4281/1718/F1.csv',\n",
    "                          'DE': 'http://www.football-data.co.uk/mmz4281/1718/D1.csv',\n",
    "                          'NL': 'http://www.football-data.co.uk/mmz4281/1718/N1.csv'\n",
    "                          }\n",
    "urls = {'EN': 'http://www.football-data.co.uk/mmz4281/1718/E0.csv',\n",
    "                          'ES': 'http://www.football-data.co.uk/mmz4281/1718/SP1.csv'}"
   ]
  },
  {
   "cell_type": "code",
   "execution_count": 3,
   "metadata": {},
   "outputs": [],
   "source": [
    "all_data=dict()\n",
    "all_team_names=dict()\n",
    "for country in urls:\n",
    "    all_data[country]=pd.read_csv(urls[country],usecols=['Date', 'HomeTeam', 'AwayTeam', 'FTHG', 'FTAG'])\n",
    "    all_team_names[country]=set(all_data[country]['HomeTeam']).union(set(all_data[country]['AwayTeam']))"
   ]
  },
  {
   "cell_type": "code",
   "execution_count": 4,
   "metadata": {},
   "outputs": [],
   "source": [
    "class Team(object):\n",
    "    def __init__(self, name='team name',country='SH'):\n",
    "        self.name = name\n",
    "        self.country=country\n",
    "        self.lmbd_set = np.linspace(0, 5, 1001)\n",
    "        self.p = self.lmbd_set * 0 + 1\n",
    "        self.p = self.p / self.p.sum()\n",
    "        self.tau_set = np.linspace(0, 5, 1001)\n",
    "        self.q = self.tau_set * 0 + 1\n",
    "        self.q = self.q / self.q.sum()\n",
    "\n",
    "    def simplify(self, threshold=1e-10):\n",
    "        ind = self.p > threshold\n",
    "        self.lmbd_set = self.lmbd_set[ind]\n",
    "        self.p = self.p[ind]\n",
    "        self.p = self.p / self.p.sum()\n",
    "        ind = self.q > threshold\n",
    "        self.tau_set = self.tau_set[ind]\n",
    "        self.q = self.q[ind]\n",
    "        self.q = self.q / self.q.sum()\n",
    "\n",
    "    def __add__(self, other_team, n_scenarios=int(1e4)):\n",
    "        GH, GA, match_des = self.vs(other_team,n=n_scenarios)\n",
    "        return np.array([(GH > GA).sum(), (GH == GA).sum(), (GH < GA).sum()]) / n_scenarios\n",
    "\n",
    "    def vs(self, other_team, n=int(1e4)):\n",
    "        lH = np.random.choice(self.lmbd_set, size=n, p=self.p) + np.random.choice(other_team.tau_set, size=n,\n",
    "                                                                                  p=other_team.q)\n",
    "        gH = np.random.poisson(lH)\n",
    "        lA = np.random.choice(self.tau_set, size=n, p=self.q) + np.random.choice(other_team.lmbd_set, size=n,\n",
    "                                                                                 p=other_team.p)\n",
    "        gA = np.random.poisson(lA)\n",
    "        match_des = self.name + ' vs ' + other_team.name\n",
    "        return gH, gA, match_des\n",
    "\n",
    "    def plt(self):\n",
    "        plt.plot(self.lmbd_set, self.p, label=self.name + ' lmbda')\n",
    "        plt.plot(self.tau_set, self.q, label=self.name + ' tau')\n",
    "        plt.legend()\n",
    "        plt.grid(True)\n",
    "        l, t = self.means()\n",
    "        plt.title('lambda: {:0.2f} tau: {:0.2f}'.format(l, t))\n",
    "\n",
    "    def means(self):\n",
    "        return self.p.dot(self.lmbd_set), self.q.dot(self.tau_set)\n",
    "    \n",
    "    def scored_against(self,other,k):\n",
    "        lmb_plus_tau = self.lmbd_set + other.tau_set[:, np.newaxis]\n",
    "        new_p = ((np.exp(-lmb_plus_tau) * (lmb_plus_tau ** k)).T * other.q).sum(axis=1) * self.p\n",
    "        self.p = new_p / new_p.sum()\n",
    "        new_q = ((np.exp(-lmb_plus_tau) * (lmb_plus_tau ** k)) * self.p).sum(axis=1) * other.q\n",
    "        other.q = new_q / new_q.sum()\n",
    "    "
   ]
  },
  {
   "cell_type": "code",
   "execution_count": 5,
   "metadata": {},
   "outputs": [],
   "source": [
    "teams=dict()\n",
    "for _country in all_team_names:\n",
    "    _team_names=all_team_names[_country]\n",
    "    for _team_name in _team_names:\n",
    "        teams[_team_name]=Team(name=_team_name,country=_country)"
   ]
  },
  {
   "cell_type": "code",
   "execution_count": 6,
   "metadata": {},
   "outputs": [],
   "source": [
    "class Season:\n",
    "    def __init__(self,teams):\n",
    "        self.teams=teams\n",
    "        self.nr_teams=len(teams)\n",
    "        \n",
    "        self.all_matches={home+' v '+away:{'Done':False,'Home':home,'Away':away} for home in teams for away in teams if home!=away }\n",
    "        self.current_goals=dict()\n",
    "        self.current_points=dict()\n",
    "        self.simulated_home_goals=None\n",
    "        self.simulated_away_goals=None\n",
    "        self.simulated_home_points=None\n",
    "        self.simulated_away_points=None\n",
    "        self.team_id=dict()\n",
    "        i=0\n",
    "        for _team in teams:\n",
    "            self.team_id[_team]=i\n",
    "            self.current_goals[_team]=0\n",
    "            self.current_points[_team]=0\n",
    "            i+=1\n",
    "    \n",
    "    def process_current_results(self,data):\n",
    "        for index, row in data.iterrows():\n",
    "            home_team=row['HomeTeam']\n",
    "            away_team=row['AwayTeam']\n",
    "            match=home_team+' v '+away_team\n",
    "            home_goals=row['FTHG']\n",
    "            away_goals=row['FTAG']\n",
    "            self.current_goals[home_team]+=home_goals\n",
    "            self.current_goals[row['AwayTeam']]+=away_goals\n",
    "            if home_goals>away_goals:\n",
    "                self.current_points[home_team]+=3\n",
    "            elif home_goals<away_goals:\n",
    "                self.current_points[away_team]+=3\n",
    "            else:\n",
    "                self.current_points[home_team]+=1\n",
    "                self.current_points[away_team]+=1\n",
    "            self.all_matches[match]['Done'] = True\n",
    "            self.matches_to_sim={x: self.all_matches[x] for x in  self.all_matches if not self.all_matches[x]['Done']}\n",
    "            \n",
    "    \n",
    "    def simulate_season(self,n_scenarios=10000):\n",
    "        nr_matches_to_sim=len(self.matches_to_sim)\n",
    "        self.match_id=dict()\n",
    "        i=0\n",
    "        self.simulated_home_goals=np.zeros([nr_matches_to_sim,n_scenarios])\n",
    "        self.simulated_away_goals=np.zeros([nr_matches_to_sim,n_scenarios])\n",
    "        for match in self.matches_to_sim:\n",
    "            self.match_id[match]=i\n",
    "            home_team=self.teams[self.matches_to_sim[match]['Home']]\n",
    "            away_team=self.teams[self.matches_to_sim[match]['Away']]\n",
    "            gH, gA, _ = home_team.vs(away_team,n=n_scenarios)\n",
    "            self.simulated_home_goals[i,:]=gH\n",
    "            self.simulated_away_goals[i,:]=gA\n",
    "            i+=1\n",
    "        \n",
    "        \n",
    "        "
   ]
  },
  {
   "cell_type": "code",
   "execution_count": 7,
   "metadata": {},
   "outputs": [],
   "source": [
    "EnglishTeams={x:teams[x] for x in teams if teams[x].country=='EN'}\n",
    "PremierLeague=Season(EnglishTeams)\n",
    "PremierLeague.process_current_results(all_data['EN'])\n",
    "PremierLeague.simulate_season()"
   ]
  },
  {
   "cell_type": "code",
   "execution_count": 8,
   "metadata": {},
   "outputs": [
    {
     "data": {
      "text/plain": [
       "(120, 10000)"
      ]
     },
     "execution_count": 8,
     "metadata": {},
     "output_type": "execute_result"
    }
   ],
   "source": [
    "PremierLeague.simulated_home_goals.shape"
   ]
  },
  {
   "cell_type": "code",
   "execution_count": null,
   "metadata": {},
   "outputs": [
    {
     "data": {
      "text/plain": [
       "array([ 5,  2, 16, 14,  9, 19,  3,  8, 10, 12, 17, 11,  6,  4, 15,  0,  7,\n",
       "        1, 18, 13])"
      ]
     },
     "execution_count": 9,
     "metadata": {},
     "output_type": "execute_result"
    }
   ],
   "source": [
    "\n",
    "n_scenarios=PremierLeague.simulated_home_goals.shape[1]\n",
    "points_per_team = np.zeros([PremierLeague.nr_teams,n_scenarios])\n",
    "place_per_team = np.zeros([PremierLeague.nr_teams,n_scenarios])\n",
    "goals_per_team = np.zeros([PremierLeague.nr_teams,n_scenarios])\n",
    "goals_against_per_team = np.zeros([PremierLeague.nr_teams,n_scenarios])\n",
    "for _team in PremierLeague.teams:\n",
    "    team_id = PremierLeague.team_id[_team]\n",
    "    points_per_team[team_id,:]=PremierLeague.current_points[_team]\n",
    "for _match in PremierLeague.matches_to_sim:\n",
    "    _details=PremierLeague.matches_to_sim[_match]\n",
    "    _home = _details['Home']\n",
    "    _home_id=PremierLeague.team_id[_home]\n",
    "    _away = _details['Away']\n",
    "    _away_id=PremierLeague.team_id[_away]\n",
    "    match_id = PremierLeague.match_id[_match]\n",
    "    home_goals=PremierLeague.simulated_home_goals[match_id]\n",
    "    away_goals=PremierLeague.simulated_away_goals[match_id]\n",
    "    goals_per_team[_home_id,:]+=home_goals\n",
    "    goals_per_team[_away_id,:]+=away_goals\n",
    "    goals_against_per_team[_home_id,:]+=away_goals\n",
    "    goals_against_per_team[_away_id,:]+=home_goals\n",
    "    home_won=home_goals>away_goals\n",
    "    away_won=home_goals<away_goals\n",
    "    draw=home_goals==away_goals\n",
    "    points_per_team[_home_id,home_won]+=3\n",
    "    points_per_team[_home_id,draw]+=1\n",
    "    points_per_team[_away_id,home_won]+=3\n",
    "    points_per_team[_away_id,away_won]+=1\n",
    "\n",
    "modified_points=points_per_team\n",
    "b=(goals_per_team-goals_against_per_team).max(axis=0)\n",
    "a=(goals_per_team-goals_against_per_team).min(axis=0)\n",
    "modified_points+=0.1*((goals_per_team-goals_against_per_team)-a)/(b-a)\n",
    "b=goals_per_team.max(axis=0)\n",
    "a=goals_per_team.min(axis=0)\n",
    "modified_points+=0.01*(goals_per_team-a)/(b-a)\n",
    "modified_points+=0.001*np.random.random(modified_points.shape)\n",
    "modified_points.argsort(axis=0)[:,0]"
   ]
  },
  {
   "cell_type": "code",
   "execution_count": null,
   "metadata": {},
   "outputs": [
    {
     "name": "stdout",
     "output_type": "stream",
     "text": [
      "EN\n"
     ]
    }
   ],
   "source": [
    "for _country in all_data:\n",
    "    _data=all_data[_country]\n",
    "    print(_country)\n",
    "    for index, row in _data.iterrows():\n",
    "        home_team=teams[row['HomeTeam']]\n",
    "        away_team=teams[row['AwayTeam']]\n",
    "        hg=row['FTHG']\n",
    "        ag=row['FTAG']\n",
    "        if not (np.isnan(hg) or np.isnan(ag)):\n",
    "            home_team.scored_against(away_team,hg)\n",
    "            away_team.scored_against(home_team,ag)\n",
    "            home_team.simplify()\n",
    "            away_team.simplify()"
   ]
  },
  {
   "cell_type": "code",
   "execution_count": null,
   "metadata": {},
   "outputs": [],
   "source": [
    "home_team.plt()"
   ]
  },
  {
   "cell_type": "code",
   "execution_count": null,
   "metadata": {},
   "outputs": [],
   "source": []
  }
 ],
 "metadata": {
  "kernelspec": {
   "display_name": "Python 3",
   "language": "python",
   "name": "python3"
  },
  "language_info": {
   "codemirror_mode": {
    "name": "ipython",
    "version": 3
   },
   "file_extension": ".py",
   "mimetype": "text/x-python",
   "name": "python",
   "nbconvert_exporter": "python",
   "pygments_lexer": "ipython3",
   "version": "3.6.4"
  }
 },
 "nbformat": 4,
 "nbformat_minor": 2
}
