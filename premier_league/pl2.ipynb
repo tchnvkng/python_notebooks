{
 "cells": [
  {
   "cell_type": "code",
   "execution_count": 1,
   "metadata": {},
   "outputs": [],
   "source": [
    "%matplotlib inline\n",
    "import pandas as pd\n",
    "import numpy as np\n",
    "import matplotlib.pyplot as plt\n",
    "from plFuns import *\n",
    "plt.rcParams['figure.figsize']=[32,18]"
   ]
  },
  {
   "cell_type": "code",
   "execution_count": 58,
   "metadata": {},
   "outputs": [],
   "source": [
    "urls = {'EN': 'http://www.football-data.co.uk/mmz4281/1718/E0.csv',\n",
    "                          'ES': 'http://www.football-data.co.uk/mmz4281/1718/SP1.csv',\n",
    "                          'IT': 'http://www.football-data.co.uk/mmz4281/1718/I1.csv',\n",
    "                          'FR': 'http://www.football-data.co.uk/mmz4281/1718/F1.csv',\n",
    "                          'DE': 'http://www.football-data.co.uk/mmz4281/1718/D1.csv',\n",
    "                          'NL': 'http://www.football-data.co.uk/mmz4281/1718/N1.csv'\n",
    "                          }\n",
    "urls = {'EN': 'http://www.football-data.co.uk/mmz4281/1718/E0.csv',\n",
    "                          'ES': 'http://www.football-data.co.uk/mmz4281/1718/SP1.csv'}"
   ]
  },
  {
   "cell_type": "code",
   "execution_count": 59,
   "metadata": {},
   "outputs": [],
   "source": [
    "all_data=dict()\n",
    "all_team_names=dict()\n",
    "for country in urls:\n",
    "    all_data[country]=pd.read_csv(urls[country],usecols=['Date', 'HomeTeam', 'AwayTeam', 'FTHG', 'FTAG'])\n",
    "    all_team_names[country]=set(all_data[country]['HomeTeam']).union(set(all_data[country]['AwayTeam']))"
   ]
  },
  {
   "cell_type": "code",
   "execution_count": 48,
   "metadata": {},
   "outputs": [],
   "source": [
    "class Team(object):\n",
    "    def __init__(self, name='team name',country='SH'):\n",
    "        self.name = name\n",
    "        self.country=country\n",
    "        self.lmbd_set = np.linspace(0, 5, 1001)\n",
    "        self.p = self.lmbd_set * 0 + 1\n",
    "        self.p = self.p / self.p.sum()\n",
    "        self.tau_set = np.linspace(0, 5, 1001)\n",
    "        self.q = self.tau_set * 0 + 1\n",
    "        self.q = self.q / self.q.sum()\n",
    "\n",
    "    def simplify(self, threshold=1e-10):\n",
    "        ind = self.p > threshold\n",
    "        self.lmbd_set = self.lmbd_set[ind]\n",
    "        self.p = self.p[ind]\n",
    "        self.p = self.p / self.p.sum()\n",
    "        ind = self.q > threshold\n",
    "        self.tau_set = self.tau_set[ind]\n",
    "        self.q = self.q[ind]\n",
    "        self.q = self.q / self.q.sum()\n",
    "\n",
    "    def __add__(self, other_team, n_scenarios=int(1e4)):\n",
    "        GH, GA, match_des = self.vs(other_team,n=n_scenarios)\n",
    "        return np.array([(GH > GA).sum(), (GH == GA).sum(), (GH < GA).sum()]) / n_scenarios\n",
    "\n",
    "    def vs(self, other_team, n=int(1e4)):\n",
    "        lH = np.random.choice(self.lmbd_set, size=n, p=self.p) + np.random.choice(other_team.tau_set, size=n,\n",
    "                                                                                  p=other_team.q)\n",
    "        gH = np.random.poisson(lH)\n",
    "        lA = np.random.choice(self.tau_set, size=n, p=self.q) + np.random.choice(other_team.lmbd_set, size=n,\n",
    "                                                                                 p=other_team.p)\n",
    "        gA = np.random.poisson(lA)\n",
    "        match_des = self.name + ' vs ' + other_team.name\n",
    "        return gH, gA, match_des\n",
    "\n",
    "    def plt(self):\n",
    "        plt.plot(self.lmbd_set, self.p, label=self.name + ' lmbda')\n",
    "        plt.plot(self.tau_set, self.q, label=self.name + ' tau')\n",
    "        plt.legend()\n",
    "        plt.grid(True)\n",
    "        l, t = self.means()\n",
    "        plt.title('lambda: {:0.2f} tau: {:0.2f}'.format(l, t))\n",
    "\n",
    "    def means(self):\n",
    "        return self.p.dot(self.lmbd_set), self.q.dot(self.tau_set)\n",
    "    \n",
    "    def scored_against(self,other,k):\n",
    "        lmb_plus_tau = self.lmbd_set + other.tau_set[:, np.newaxis]\n",
    "        new_p = ((np.exp(-lmb_plus_tau) * (lmb_plus_tau ** k)).T * other.q).sum(axis=1) * self.p\n",
    "        self.p = new_p / new_p.sum()\n",
    "        new_q = ((np.exp(-lmb_plus_tau) * (lmb_plus_tau ** k)) * self.p).sum(axis=1) * other.q\n",
    "        other.q = new_q / new_q.sum()\n",
    "    "
   ]
  },
  {
   "cell_type": "code",
   "execution_count": 132,
   "metadata": {},
   "outputs": [],
   "source": [
    "class Season:\n",
    "    def __init__(self,teams):\n",
    "        self.teams=teams\n",
    "        self.home_goals={home+' v '+away : np.full(100000, -1) for home in teams for away in teams if home!=away }\n",
    "        self.away_goals={home+' v '+away : np.full(100000, -1) for home in teams for away in teams if home!=away }\n",
    "    \n",
    "    def process_current_results(self,data):\n",
    "        for index, row in data.iterrows():\n",
    "            match=row['HomeTeam']+' v '+row['AwayTeam']\n",
    "            hg=row['FTHG']\n",
    "            ag=row['FTAG']\n",
    "            self.home_goals[match][:]=hg\n",
    "            self.away_goals[match][:]=ag\n",
    "        \n",
    "        "
   ]
  },
  {
   "cell_type": "code",
   "execution_count": 60,
   "metadata": {},
   "outputs": [],
   "source": [
    "teams=dict()\n",
    "for _country in all_team_names:\n",
    "    _team_names=all_team_names[_country]\n",
    "    for _team_name in _team_names:\n",
    "        teams[_team_name]=Team(name=_team_name,country=_country)\n",
    "    "
   ]
  },
  {
   "cell_type": "code",
   "execution_count": 134,
   "metadata": {},
   "outputs": [],
   "source": [
    "EnglishTeams={x:teams[x] for x in teams if teams[x].country=='EN'}\n",
    "PremierLeague=Season(EnglishTeams)\n",
    "PremierLeague.process_current_results(all_data['EN'])"
   ]
  },
  {
   "cell_type": "code",
   "execution_count": 77,
   "metadata": {},
   "outputs": [
    {
     "name": "stdout",
     "output_type": "stream",
     "text": [
      "EN\n",
      "ES\n"
     ]
    }
   ],
   "source": [
    "for _country in all_data:\n",
    "    _data=all_data[_country]\n",
    "    print(_country)\n",
    "    for index, row in _data.iterrows():\n",
    "        home_team=teams[row['HomeTeam']]\n",
    "        away_team=teams[row['AwayTeam']]\n",
    "        hg=row['FTHG']\n",
    "        ag=row['FTAG']\n",
    "        home_team.scored_against(away_team,hg)\n",
    "        away_team.scored_against(home_team,ag)\n",
    "        home_team.simplify()\n",
    "        away_team.simplify()"
   ]
  },
  {
   "cell_type": "code",
   "execution_count": null,
   "metadata": {},
   "outputs": [],
   "source": []
  }
 ],
 "metadata": {
  "kernelspec": {
   "display_name": "Python 3",
   "language": "python",
   "name": "python3"
  },
  "language_info": {
   "codemirror_mode": {
    "name": "ipython",
    "version": 3
   },
   "file_extension": ".py",
   "mimetype": "text/x-python",
   "name": "python",
   "nbconvert_exporter": "python",
   "pygments_lexer": "ipython3",
   "version": "3.6.3"
  }
 },
 "nbformat": 4,
 "nbformat_minor": 2
}
